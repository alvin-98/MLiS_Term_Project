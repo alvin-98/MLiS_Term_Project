{
 "cells": [
  {
   "cell_type": "code",
   "execution_count": 2,
   "metadata": {},
   "outputs": [
    {
     "data": {
      "text/html": [
       "<div>\n",
       "<style scoped>\n",
       "    .dataframe tbody tr th:only-of-type {\n",
       "        vertical-align: middle;\n",
       "    }\n",
       "\n",
       "    .dataframe tbody tr th {\n",
       "        vertical-align: top;\n",
       "    }\n",
       "\n",
       "    .dataframe thead th {\n",
       "        text-align: right;\n",
       "    }\n",
       "</style>\n",
       "<table border=\"1\" class=\"dataframe\">\n",
       "  <thead>\n",
       "    <tr style=\"text-align: right;\">\n",
       "      <th></th>\n",
       "      <th>Sample_code_number</th>\n",
       "      <th>Clump_thickness</th>\n",
       "      <th>Uniformity_of_cell_size</th>\n",
       "      <th>Uniformity_of_cell_shape</th>\n",
       "      <th>Marginal_adhesion</th>\n",
       "      <th>Single_epithelial_cell_size</th>\n",
       "      <th>Bare_nuclei</th>\n",
       "      <th>Bland_chromatin</th>\n",
       "      <th>Normal_nucleoli</th>\n",
       "      <th>Mitoses</th>\n",
       "      <th>Class</th>\n",
       "    </tr>\n",
       "  </thead>\n",
       "  <tbody>\n",
       "    <tr>\n",
       "      <th>0</th>\n",
       "      <td>1000025</td>\n",
       "      <td>5</td>\n",
       "      <td>1</td>\n",
       "      <td>1</td>\n",
       "      <td>1</td>\n",
       "      <td>2</td>\n",
       "      <td>1</td>\n",
       "      <td>3</td>\n",
       "      <td>1</td>\n",
       "      <td>1</td>\n",
       "      <td>2</td>\n",
       "    </tr>\n",
       "    <tr>\n",
       "      <th>1</th>\n",
       "      <td>1002945</td>\n",
       "      <td>5</td>\n",
       "      <td>4</td>\n",
       "      <td>4</td>\n",
       "      <td>5</td>\n",
       "      <td>7</td>\n",
       "      <td>10</td>\n",
       "      <td>3</td>\n",
       "      <td>2</td>\n",
       "      <td>1</td>\n",
       "      <td>2</td>\n",
       "    </tr>\n",
       "    <tr>\n",
       "      <th>2</th>\n",
       "      <td>1015425</td>\n",
       "      <td>3</td>\n",
       "      <td>1</td>\n",
       "      <td>1</td>\n",
       "      <td>1</td>\n",
       "      <td>2</td>\n",
       "      <td>2</td>\n",
       "      <td>3</td>\n",
       "      <td>1</td>\n",
       "      <td>1</td>\n",
       "      <td>2</td>\n",
       "    </tr>\n",
       "    <tr>\n",
       "      <th>3</th>\n",
       "      <td>1016277</td>\n",
       "      <td>6</td>\n",
       "      <td>8</td>\n",
       "      <td>8</td>\n",
       "      <td>1</td>\n",
       "      <td>3</td>\n",
       "      <td>4</td>\n",
       "      <td>3</td>\n",
       "      <td>7</td>\n",
       "      <td>1</td>\n",
       "      <td>2</td>\n",
       "    </tr>\n",
       "    <tr>\n",
       "      <th>4</th>\n",
       "      <td>1017023</td>\n",
       "      <td>4</td>\n",
       "      <td>1</td>\n",
       "      <td>1</td>\n",
       "      <td>3</td>\n",
       "      <td>2</td>\n",
       "      <td>1</td>\n",
       "      <td>3</td>\n",
       "      <td>1</td>\n",
       "      <td>1</td>\n",
       "      <td>2</td>\n",
       "    </tr>\n",
       "  </tbody>\n",
       "</table>\n",
       "</div>"
      ],
      "text/plain": [
       "   Sample_code_number  Clump_thickness  Uniformity_of_cell_size  \\\n",
       "0             1000025                5                        1   \n",
       "1             1002945                5                        4   \n",
       "2             1015425                3                        1   \n",
       "3             1016277                6                        8   \n",
       "4             1017023                4                        1   \n",
       "\n",
       "   Uniformity_of_cell_shape  Marginal_adhesion  Single_epithelial_cell_size  \\\n",
       "0                         1                  1                            2   \n",
       "1                         4                  5                            7   \n",
       "2                         1                  1                            2   \n",
       "3                         8                  1                            3   \n",
       "4                         1                  3                            2   \n",
       "\n",
       "  Bare_nuclei  Bland_chromatin  Normal_nucleoli  Mitoses  Class  \n",
       "0           1                3                1        1      2  \n",
       "1          10                3                2        1      2  \n",
       "2           2                3                1        1      2  \n",
       "3           4                3                7        1      2  \n",
       "4           1                3                1        1      2  "
      ]
     },
     "execution_count": 2,
     "metadata": {},
     "output_type": "execute_result"
    }
   ],
   "source": [
    "import pandas as pd\n",
    "\n",
    "# file path\n",
    "file_path = \"data/breast-cancer-wisconsin.data\"\n",
    "\n",
    "df = pd.read_csv(file_path, names=['Sample_code_number', \n",
    "                                    'Clump_thickness', \n",
    "                                    'Uniformity_of_cell_size', \n",
    "                                    'Uniformity_of_cell_shape', \n",
    "                                    'Marginal_adhesion',\n",
    "                                    'Single_epithelial_cell_size',\n",
    "                                    'Bare_nuclei',\n",
    "                                    'Bland_chromatin',\n",
    "                                    'Normal_nucleoli',\n",
    "                                    'Mitoses',\n",
    "                                    'Class'])\n",
    "\n",
    "df.head()"
   ]
  },
  {
   "cell_type": "code",
   "execution_count": 3,
   "metadata": {},
   "outputs": [
    {
     "data": {
      "text/html": [
       "<div>\n",
       "<style scoped>\n",
       "    .dataframe tbody tr th:only-of-type {\n",
       "        vertical-align: middle;\n",
       "    }\n",
       "\n",
       "    .dataframe tbody tr th {\n",
       "        vertical-align: top;\n",
       "    }\n",
       "\n",
       "    .dataframe thead th {\n",
       "        text-align: right;\n",
       "    }\n",
       "</style>\n",
       "<table border=\"1\" class=\"dataframe\">\n",
       "  <thead>\n",
       "    <tr style=\"text-align: right;\">\n",
       "      <th></th>\n",
       "      <th>Sample_code_number</th>\n",
       "      <th>Clump_thickness</th>\n",
       "      <th>Uniformity_of_cell_size</th>\n",
       "      <th>Uniformity_of_cell_shape</th>\n",
       "      <th>Marginal_adhesion</th>\n",
       "      <th>Single_epithelial_cell_size</th>\n",
       "      <th>Bland_chromatin</th>\n",
       "      <th>Normal_nucleoli</th>\n",
       "      <th>Mitoses</th>\n",
       "      <th>Class</th>\n",
       "    </tr>\n",
       "  </thead>\n",
       "  <tbody>\n",
       "    <tr>\n",
       "      <th>count</th>\n",
       "      <td>6.990000e+02</td>\n",
       "      <td>699.000000</td>\n",
       "      <td>699.000000</td>\n",
       "      <td>699.000000</td>\n",
       "      <td>699.000000</td>\n",
       "      <td>699.000000</td>\n",
       "      <td>699.000000</td>\n",
       "      <td>699.000000</td>\n",
       "      <td>699.000000</td>\n",
       "      <td>699.000000</td>\n",
       "    </tr>\n",
       "    <tr>\n",
       "      <th>mean</th>\n",
       "      <td>1.071704e+06</td>\n",
       "      <td>4.417740</td>\n",
       "      <td>3.134478</td>\n",
       "      <td>3.207439</td>\n",
       "      <td>2.806867</td>\n",
       "      <td>3.216023</td>\n",
       "      <td>3.437768</td>\n",
       "      <td>2.866953</td>\n",
       "      <td>1.589413</td>\n",
       "      <td>2.689557</td>\n",
       "    </tr>\n",
       "    <tr>\n",
       "      <th>std</th>\n",
       "      <td>6.170957e+05</td>\n",
       "      <td>2.815741</td>\n",
       "      <td>3.051459</td>\n",
       "      <td>2.971913</td>\n",
       "      <td>2.855379</td>\n",
       "      <td>2.214300</td>\n",
       "      <td>2.438364</td>\n",
       "      <td>3.053634</td>\n",
       "      <td>1.715078</td>\n",
       "      <td>0.951273</td>\n",
       "    </tr>\n",
       "    <tr>\n",
       "      <th>min</th>\n",
       "      <td>6.163400e+04</td>\n",
       "      <td>1.000000</td>\n",
       "      <td>1.000000</td>\n",
       "      <td>1.000000</td>\n",
       "      <td>1.000000</td>\n",
       "      <td>1.000000</td>\n",
       "      <td>1.000000</td>\n",
       "      <td>1.000000</td>\n",
       "      <td>1.000000</td>\n",
       "      <td>2.000000</td>\n",
       "    </tr>\n",
       "    <tr>\n",
       "      <th>25%</th>\n",
       "      <td>8.706885e+05</td>\n",
       "      <td>2.000000</td>\n",
       "      <td>1.000000</td>\n",
       "      <td>1.000000</td>\n",
       "      <td>1.000000</td>\n",
       "      <td>2.000000</td>\n",
       "      <td>2.000000</td>\n",
       "      <td>1.000000</td>\n",
       "      <td>1.000000</td>\n",
       "      <td>2.000000</td>\n",
       "    </tr>\n",
       "    <tr>\n",
       "      <th>50%</th>\n",
       "      <td>1.171710e+06</td>\n",
       "      <td>4.000000</td>\n",
       "      <td>1.000000</td>\n",
       "      <td>1.000000</td>\n",
       "      <td>1.000000</td>\n",
       "      <td>2.000000</td>\n",
       "      <td>3.000000</td>\n",
       "      <td>1.000000</td>\n",
       "      <td>1.000000</td>\n",
       "      <td>2.000000</td>\n",
       "    </tr>\n",
       "    <tr>\n",
       "      <th>75%</th>\n",
       "      <td>1.238298e+06</td>\n",
       "      <td>6.000000</td>\n",
       "      <td>5.000000</td>\n",
       "      <td>5.000000</td>\n",
       "      <td>4.000000</td>\n",
       "      <td>4.000000</td>\n",
       "      <td>5.000000</td>\n",
       "      <td>4.000000</td>\n",
       "      <td>1.000000</td>\n",
       "      <td>4.000000</td>\n",
       "    </tr>\n",
       "    <tr>\n",
       "      <th>max</th>\n",
       "      <td>1.345435e+07</td>\n",
       "      <td>10.000000</td>\n",
       "      <td>10.000000</td>\n",
       "      <td>10.000000</td>\n",
       "      <td>10.000000</td>\n",
       "      <td>10.000000</td>\n",
       "      <td>10.000000</td>\n",
       "      <td>10.000000</td>\n",
       "      <td>10.000000</td>\n",
       "      <td>4.000000</td>\n",
       "    </tr>\n",
       "  </tbody>\n",
       "</table>\n",
       "</div>"
      ],
      "text/plain": [
       "       Sample_code_number  Clump_thickness  Uniformity_of_cell_size  \\\n",
       "count        6.990000e+02       699.000000               699.000000   \n",
       "mean         1.071704e+06         4.417740                 3.134478   \n",
       "std          6.170957e+05         2.815741                 3.051459   \n",
       "min          6.163400e+04         1.000000                 1.000000   \n",
       "25%          8.706885e+05         2.000000                 1.000000   \n",
       "50%          1.171710e+06         4.000000                 1.000000   \n",
       "75%          1.238298e+06         6.000000                 5.000000   \n",
       "max          1.345435e+07        10.000000                10.000000   \n",
       "\n",
       "       Uniformity_of_cell_shape  Marginal_adhesion  \\\n",
       "count                699.000000         699.000000   \n",
       "mean                   3.207439           2.806867   \n",
       "std                    2.971913           2.855379   \n",
       "min                    1.000000           1.000000   \n",
       "25%                    1.000000           1.000000   \n",
       "50%                    1.000000           1.000000   \n",
       "75%                    5.000000           4.000000   \n",
       "max                   10.000000          10.000000   \n",
       "\n",
       "       Single_epithelial_cell_size  Bland_chromatin  Normal_nucleoli  \\\n",
       "count                   699.000000       699.000000       699.000000   \n",
       "mean                      3.216023         3.437768         2.866953   \n",
       "std                       2.214300         2.438364         3.053634   \n",
       "min                       1.000000         1.000000         1.000000   \n",
       "25%                       2.000000         2.000000         1.000000   \n",
       "50%                       2.000000         3.000000         1.000000   \n",
       "75%                       4.000000         5.000000         4.000000   \n",
       "max                      10.000000        10.000000        10.000000   \n",
       "\n",
       "          Mitoses       Class  \n",
       "count  699.000000  699.000000  \n",
       "mean     1.589413    2.689557  \n",
       "std      1.715078    0.951273  \n",
       "min      1.000000    2.000000  \n",
       "25%      1.000000    2.000000  \n",
       "50%      1.000000    2.000000  \n",
       "75%      1.000000    4.000000  \n",
       "max     10.000000    4.000000  "
      ]
     },
     "execution_count": 3,
     "metadata": {},
     "output_type": "execute_result"
    }
   ],
   "source": [
    "df.describe()"
   ]
  },
  {
   "cell_type": "code",
   "execution_count": 4,
   "metadata": {},
   "outputs": [
    {
     "data": {
      "text/plain": [
       "Sample_code_number             645\n",
       "Clump_thickness                 10\n",
       "Uniformity_of_cell_size         10\n",
       "Uniformity_of_cell_shape        10\n",
       "Marginal_adhesion               10\n",
       "Single_epithelial_cell_size     10\n",
       "Bare_nuclei                     11\n",
       "Bland_chromatin                 10\n",
       "Normal_nucleoli                 10\n",
       "Mitoses                          9\n",
       "Class                            2\n",
       "dtype: int64"
      ]
     },
     "execution_count": 4,
     "metadata": {},
     "output_type": "execute_result"
    }
   ],
   "source": [
    "df.nunique()"
   ]
  },
  {
   "cell_type": "code",
   "execution_count": 5,
   "metadata": {},
   "outputs": [
    {
     "data": {
      "text/plain": [
       "(699, 11)"
      ]
     },
     "execution_count": 5,
     "metadata": {},
     "output_type": "execute_result"
    }
   ],
   "source": [
    "df.shape"
   ]
  },
  {
   "cell_type": "code",
   "execution_count": 6,
   "metadata": {},
   "outputs": [
    {
     "data": {
      "image/png": "[encoded data removed]",
      "text/plain": [
       "<Figure size 432x288 with 1 Axes>"
      ]
     },
     "metadata": {
      "needs_background": "light"
     },
     "output_type": "display_data"
    }
   ],
   "source": [
    "import matplotlib.pyplot as plt\n",
    "\n",
    "\n",
    "data = df.Clump_thickness\n",
    "unique_values = sorted(set(data))\n",
    "bins = [x - 0.5 for x in unique_values] + [unique_values[-1] + 0.5]\n",
    "\n",
    "plt.hist(data, bins=bins, edgecolor='black', rwidth=0.9, color='skyblue')\n",
    "plt.title('Histogram - Clump Thickness')\n",
    "plt.xlabel('Value')\n",
    "plt.ylabel('Frequency')\n",
    "plt.xticks(unique_values)\n",
    "plt.show()"
   ]
  },
  {
   "cell_type": "code",
   "execution_count": 7,
   "metadata": {},
   "outputs": [
    {
     "data": {
      "image/png": "[encoded data removed]",
      "text/plain": [
       "<Figure size 432x288 with 1 Axes>"
      ]
     },
     "metadata": {
      "needs_background": "light"
     },
     "output_type": "display_data"
    }
   ],
   "source": [
    "\n",
    "data = df.Uniformity_of_cell_size\n",
    "unique_values = sorted(set(data))\n",
    "bins = [x - 0.5 for x in unique_values] + [unique_values[-1] + 0.5]\n",
    "\n",
    "plt.hist(data, bins=bins, edgecolor='black', rwidth=0.9, color='skyblue')\n",
    "plt.title('Histogram - Uniformity_of_cell_size')\n",
    "plt.xlabel('Value')\n",
    "plt.ylabel('Frequency')\n",
    "plt.xticks(unique_values)\n",
    "plt.show()"
   ]
  },
  {
   "cell_type": "code",
   "execution_count": 8,
   "metadata": {},
   "outputs": [
    {
     "data": {
      "image/png": "[encoded data removed]",
      "text/plain": [
       "<Figure size 432x288 with 1 Axes>"
      ]
     },
     "metadata": {
      "needs_background": "light"
     },
     "output_type": "display_data"
    }
   ],
   "source": [
    "\n",
    "data = df.Uniformity_of_cell_shape\n",
    "unique_values = sorted(set(data))\n",
    "bins = [x - 0.5 for x in unique_values] + [unique_values[-1] + 0.5]\n",
    "\n",
    "plt.hist(data, bins=bins, edgecolor='black', rwidth=0.9, color='skyblue')\n",
    "plt.title('Histogram - Uniformity_of_cell_shape')\n",
    "plt.xlabel('Value')\n",
    "plt.ylabel('Frequency')\n",
    "plt.xticks(unique_values)\n",
    "plt.show()"
   ]
  },
  {
   "cell_type": "code",
   "execution_count": 9,
   "metadata": {},
   "outputs": [
    {
     "data": {
      "image/png": "[encoded data removed]",
      "text/plain": [
       "<Figure size 432x288 with 1 Axes>"
      ]
     },
     "metadata": {
      "needs_background": "light"
     },
     "output_type": "display_data"
    }
   ],
   "source": [
    "\n",
    "data = df.Marginal_adhesion\n",
    "unique_values = sorted(set(data))\n",
    "bins = [x - 0.5 for x in unique_values] + [unique_values[-1] + 0.5]\n",
    "\n",
    "plt.hist(data, bins=bins, edgecolor='black', rwidth=0.9, color='skyblue')\n",
    "plt.title('Histogram - Marginal_adhesion')\n",
    "plt.xlabel('Value')\n",
    "plt.ylabel('Frequency')\n",
    "plt.xticks(unique_values)\n",
    "plt.show()"
   ]
  },
  {
   "cell_type": "code",
   "execution_count": 10,
   "metadata": {},
   "outputs": [],
   "source": [
    "df['Single_epithelial_cell_size'] = pd.to_numeric(df['Single_epithelial_cell_size'], errors='coerce')\n",
    "\n",
    "# Convert to nullable integer type (Int64) to allow NaN\n",
    "df['Single_epithelial_cell_size'] = df['Single_epithelial_cell_size'].astype('Int64')\n"
   ]
  },
  {
   "cell_type": "code",
   "execution_count": 11,
   "metadata": {},
   "outputs": [
    {
     "data": {
      "image/png": "[encoded data removed]",
      "text/plain": [
       "<Figure size 432x288 with 1 Axes>"
      ]
     },
     "metadata": {
      "needs_background": "light"
     },
     "output_type": "display_data"
    }
   ],
   "source": [
    "\n",
    "data = df.Single_epithelial_cell_size.dropna()\n",
    "unique_values = sorted(set(data))\n",
    "bins = [x - 0.5 for x in unique_values] + [unique_values[-1] + 0.5]\n",
    "\n",
    "plt.hist(data, bins=bins, edgecolor='black', rwidth=0.9, color='skyblue')\n",
    "plt.title('Histogram - Single_epithelial_cell_size')\n",
    "plt.xlabel('Value')\n",
    "plt.ylabel('Frequency')\n",
    "plt.xticks(unique_values)\n",
    "plt.show()"
   ]
  },
  {
   "cell_type": "code",
   "execution_count": 16,
   "metadata": {},
   "outputs": [],
   "source": [
    "df['Bare_nuclei'] = pd.to_numeric(df['Bare_nuclei'], errors='coerce')\n",
    "\n",
    "# Convert to nullable integer type (Int64) to allow NaN\n",
    "df['Bare_nuclei'] = df['Bare_nuclei'].astype('Int64')\n"
   ]
  },
  {
   "cell_type": "code",
   "execution_count": 17,
   "metadata": {},
   "outputs": [
    {
     "data": {
      "image/png": "[encoded data removed]",
      "text/plain": [
       "<Figure size 432x288 with 1 Axes>"
      ]
     },
     "metadata": {
      "needs_background": "light"
     },
     "output_type": "display_data"
    }
   ],
   "source": [
    "\n",
    "data = df.Bare_nuclei.dropna()\n",
    "unique_values = sorted(set(data))\n",
    "bins = [x - 0.5 for x in unique_values] + [unique_values[-1] + 0.5]\n",
    "\n",
    "plt.hist(data, bins=bins, edgecolor='black', rwidth=0.9, color='skyblue')\n",
    "plt.title('Histogram - Bare_nuclei')\n",
    "plt.xlabel('Value')\n",
    "plt.ylabel('Frequency')\n",
    "plt.xticks(unique_values)\n",
    "plt.show()"
   ]
  },
  {
   "cell_type": "code",
   "execution_count": 74,
   "metadata": {},
   "outputs": [
    {
     "data": {
      "image/png": "[encoded data removed]",
      "text/plain": [
       "<Figure size 432x288 with 1 Axes>"
      ]
     },
     "metadata": {
      "needs_background": "light"
     },
     "output_type": "display_data"
    }
   ],
   "source": [
    "\n",
    "data = df.Bland_chromatin\n",
    "unique_values = sorted(set(data))\n",
    "bins = [x - 0.5 for x in unique_values] + [unique_values[-1] + 0.5]\n",
    "\n",
    "plt.hist(data, bins=bins, edgecolor='black', rwidth=0.9, color='skyblue')\n",
    "plt.title('Histogram - Bland_chromatin')\n",
    "plt.xlabel('Value')\n",
    "plt.ylabel('Frequency')\n",
    "plt.xticks(unique_values)\n",
    "plt.show()"
   ]
  },
  {
   "cell_type": "code",
   "execution_count": 75,
   "metadata": {},
   "outputs": [
    {
     "data": {
      "image/png": "[encoded data removed]",
      "text/plain": [
       "<Figure size 432x288 with 1 Axes>"
      ]
     },
     "metadata": {
      "needs_background": "light"
     },
     "output_type": "display_data"
    }
   ],
   "source": [
    "\n",
    "data = df.Normal_nucleoli\n",
    "unique_values = sorted(set(data))\n",
    "bins = [x - 0.5 for x in unique_values] + [unique_values[-1] + 0.5]\n",
    "\n",
    "plt.hist(data, bins=bins, edgecolor='black', rwidth=0.9, color='skyblue')\n",
    "plt.title('Histogram - Normal_nucleoli')\n",
    "plt.xlabel('Value')\n",
    "plt.ylabel('Frequency')\n",
    "plt.xticks(unique_values)\n",
    "plt.show()"
   ]
  },
  {
   "cell_type": "code",
   "execution_count": 21,
   "metadata": {},
   "outputs": [
    {
     "data": {
      "image/png": "[encoded data removed]",
      "text/plain": [
       "<Figure size 432x288 with 1 Axes>"
      ]
     },
     "metadata": {
      "needs_background": "light"
     },
     "output_type": "display_data"
    }
   ],
   "source": [
    "\n",
    "data = df.Mitoses\n",
    "unique_values = sorted(set(data))\n",
    "bins = [x - 0.5 for x in unique_values] + [unique_values[-1] + 0.5]\n",
    "\n",
    "plt.hist(data, bins=bins, edgecolor='black', rwidth=0.9, color='skyblue')\n",
    "plt.title('Histogram - Mitoses')\n",
    "plt.xlabel('Value')\n",
    "plt.ylabel('Frequency')\n",
    "plt.xticks(unique_values)\n",
    "plt.show()"
   ]
  },
  {
   "cell_type": "code",
   "execution_count": 29,
   "metadata": {},
   "outputs": [
    {
     "data": {
      "image/png": "[encoded data removed]",
      "text/plain": [
       "<Figure size 432x288 with 1 Axes>"
      ]
     },
     "metadata": {
      "needs_background": "light"
     },
     "output_type": "display_data"
    }
   ],
   "source": [
    "\n",
    "data = df.Class\n",
    "\n",
    "plt.hist(data, bins=2, edgecolor='black', rwidth=0.9, color='skyblue')\n",
    "plt.title('Histogram - Class')\n",
    "plt.xlabel('Value')\n",
    "plt.ylabel('Frequency')\n",
    "plt.xticks(df.Class.unique())\n",
    "plt.show()"
   ]
  }
 ],
 "metadata": {
  "kernelspec": {
   "display_name": "sciprog_env",
   "language": "python",
   "name": "python3"
  },
  "language_info": {
   "codemirror_mode": {
    "name": "ipython",
    "version": 3
   },
   "file_extension": ".py",
   "mimetype": "text/x-python",
   "name": "python",
   "nbconvert_exporter": "python",
   "pygments_lexer": "ipython3",
   "version": "3.10.8"
  }
 },
 "nbformat": 4,
 "nbformat_minor": 2
}
